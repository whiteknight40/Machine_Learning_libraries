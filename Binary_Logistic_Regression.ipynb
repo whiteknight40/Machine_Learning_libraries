{
  "cells": [
    {
      "cell_type": "markdown",
      "metadata": {
        "id": "view-in-github",
        "colab_type": "text"
      },
      "source": [
        "<a href=\"https://colab.research.google.com/github/whiteknight40/Machine_learning_libraries/blob/main/Binary_Logistic_Regression.ipynb\" target=\"_parent\"><img src=\"https://colab.research.google.com/assets/colab-badge.svg\" alt=\"Open In Colab\"/></a>"
      ]
    },
    {
      "cell_type": "markdown",
      "source": [
        "# Binary Logistic Regression"
      ],
      "metadata": {
        "id": "Ft4JaaTAco7A"
      }
    },
    {
      "cell_type": "code",
      "source": [
        "from google.colab import files\n",
        "uploaded = files.upload()"
      ],
      "metadata": {
        "outputId": "47d5b2a1-158a-4ce2-87f4-d15e614bd411",
        "colab": {
          "base_uri": "https://localhost:8080/",
          "height": 73
        },
        "id": "rQvmD-T-d6dd"
      },
      "execution_count": null,
      "outputs": [
        {
          "output_type": "display_data",
          "data": {
            "text/plain": [
              "<IPython.core.display.HTML object>"
            ],
            "text/html": [
              "\n",
              "     <input type=\"file\" id=\"files-8071e7ea-a9a4-4b2e-9849-61754e7062ac\" name=\"files[]\" multiple disabled\n",
              "        style=\"border:none\" />\n",
              "     <output id=\"result-8071e7ea-a9a4-4b2e-9849-61754e7062ac\">\n",
              "      Upload widget is only available when the cell has been executed in the\n",
              "      current browser session. Please rerun this cell to enable.\n",
              "      </output>\n",
              "      <script>// Copyright 2017 Google LLC\n",
              "//\n",
              "// Licensed under the Apache License, Version 2.0 (the \"License\");\n",
              "// you may not use this file except in compliance with the License.\n",
              "// You may obtain a copy of the License at\n",
              "//\n",
              "//      http://www.apache.org/licenses/LICENSE-2.0\n",
              "//\n",
              "// Unless required by applicable law or agreed to in writing, software\n",
              "// distributed under the License is distributed on an \"AS IS\" BASIS,\n",
              "// WITHOUT WARRANTIES OR CONDITIONS OF ANY KIND, either express or implied.\n",
              "// See the License for the specific language governing permissions and\n",
              "// limitations under the License.\n",
              "\n",
              "/**\n",
              " * @fileoverview Helpers for google.colab Python module.\n",
              " */\n",
              "(function(scope) {\n",
              "function span(text, styleAttributes = {}) {\n",
              "  const element = document.createElement('span');\n",
              "  element.textContent = text;\n",
              "  for (const key of Object.keys(styleAttributes)) {\n",
              "    element.style[key] = styleAttributes[key];\n",
              "  }\n",
              "  return element;\n",
              "}\n",
              "\n",
              "// Max number of bytes which will be uploaded at a time.\n",
              "const MAX_PAYLOAD_SIZE = 100 * 1024;\n",
              "\n",
              "function _uploadFiles(inputId, outputId) {\n",
              "  const steps = uploadFilesStep(inputId, outputId);\n",
              "  const outputElement = document.getElementById(outputId);\n",
              "  // Cache steps on the outputElement to make it available for the next call\n",
              "  // to uploadFilesContinue from Python.\n",
              "  outputElement.steps = steps;\n",
              "\n",
              "  return _uploadFilesContinue(outputId);\n",
              "}\n",
              "\n",
              "// This is roughly an async generator (not supported in the browser yet),\n",
              "// where there are multiple asynchronous steps and the Python side is going\n",
              "// to poll for completion of each step.\n",
              "// This uses a Promise to block the python side on completion of each step,\n",
              "// then passes the result of the previous step as the input to the next step.\n",
              "function _uploadFilesContinue(outputId) {\n",
              "  const outputElement = document.getElementById(outputId);\n",
              "  const steps = outputElement.steps;\n",
              "\n",
              "  const next = steps.next(outputElement.lastPromiseValue);\n",
              "  return Promise.resolve(next.value.promise).then((value) => {\n",
              "    // Cache the last promise value to make it available to the next\n",
              "    // step of the generator.\n",
              "    outputElement.lastPromiseValue = value;\n",
              "    return next.value.response;\n",
              "  });\n",
              "}\n",
              "\n",
              "/**\n",
              " * Generator function which is called between each async step of the upload\n",
              " * process.\n",
              " * @param {string} inputId Element ID of the input file picker element.\n",
              " * @param {string} outputId Element ID of the output display.\n",
              " * @return {!Iterable<!Object>} Iterable of next steps.\n",
              " */\n",
              "function* uploadFilesStep(inputId, outputId) {\n",
              "  const inputElement = document.getElementById(inputId);\n",
              "  inputElement.disabled = false;\n",
              "\n",
              "  const outputElement = document.getElementById(outputId);\n",
              "  outputElement.innerHTML = '';\n",
              "\n",
              "  const pickedPromise = new Promise((resolve) => {\n",
              "    inputElement.addEventListener('change', (e) => {\n",
              "      resolve(e.target.files);\n",
              "    });\n",
              "  });\n",
              "\n",
              "  const cancel = document.createElement('button');\n",
              "  inputElement.parentElement.appendChild(cancel);\n",
              "  cancel.textContent = 'Cancel upload';\n",
              "  const cancelPromise = new Promise((resolve) => {\n",
              "    cancel.onclick = () => {\n",
              "      resolve(null);\n",
              "    };\n",
              "  });\n",
              "\n",
              "  // Wait for the user to pick the files.\n",
              "  const files = yield {\n",
              "    promise: Promise.race([pickedPromise, cancelPromise]),\n",
              "    response: {\n",
              "      action: 'starting',\n",
              "    }\n",
              "  };\n",
              "\n",
              "  cancel.remove();\n",
              "\n",
              "  // Disable the input element since further picks are not allowed.\n",
              "  inputElement.disabled = true;\n",
              "\n",
              "  if (!files) {\n",
              "    return {\n",
              "      response: {\n",
              "        action: 'complete',\n",
              "      }\n",
              "    };\n",
              "  }\n",
              "\n",
              "  for (const file of files) {\n",
              "    const li = document.createElement('li');\n",
              "    li.append(span(file.name, {fontWeight: 'bold'}));\n",
              "    li.append(span(\n",
              "        `(${file.type || 'n/a'}) - ${file.size} bytes, ` +\n",
              "        `last modified: ${\n",
              "            file.lastModifiedDate ? file.lastModifiedDate.toLocaleDateString() :\n",
              "                                    'n/a'} - `));\n",
              "    const percent = span('0% done');\n",
              "    li.appendChild(percent);\n",
              "\n",
              "    outputElement.appendChild(li);\n",
              "\n",
              "    const fileDataPromise = new Promise((resolve) => {\n",
              "      const reader = new FileReader();\n",
              "      reader.onload = (e) => {\n",
              "        resolve(e.target.result);\n",
              "      };\n",
              "      reader.readAsArrayBuffer(file);\n",
              "    });\n",
              "    // Wait for the data to be ready.\n",
              "    let fileData = yield {\n",
              "      promise: fileDataPromise,\n",
              "      response: {\n",
              "        action: 'continue',\n",
              "      }\n",
              "    };\n",
              "\n",
              "    // Use a chunked sending to avoid message size limits. See b/62115660.\n",
              "    let position = 0;\n",
              "    do {\n",
              "      const length = Math.min(fileData.byteLength - position, MAX_PAYLOAD_SIZE);\n",
              "      const chunk = new Uint8Array(fileData, position, length);\n",
              "      position += length;\n",
              "\n",
              "      const base64 = btoa(String.fromCharCode.apply(null, chunk));\n",
              "      yield {\n",
              "        response: {\n",
              "          action: 'append',\n",
              "          file: file.name,\n",
              "          data: base64,\n",
              "        },\n",
              "      };\n",
              "\n",
              "      let percentDone = fileData.byteLength === 0 ?\n",
              "          100 :\n",
              "          Math.round((position / fileData.byteLength) * 100);\n",
              "      percent.textContent = `${percentDone}% done`;\n",
              "\n",
              "    } while (position < fileData.byteLength);\n",
              "  }\n",
              "\n",
              "  // All done.\n",
              "  yield {\n",
              "    response: {\n",
              "      action: 'complete',\n",
              "    }\n",
              "  };\n",
              "}\n",
              "\n",
              "scope.google = scope.google || {};\n",
              "scope.google.colab = scope.google.colab || {};\n",
              "scope.google.colab._files = {\n",
              "  _uploadFiles,\n",
              "  _uploadFilesContinue,\n",
              "};\n",
              "})(self);\n",
              "</script> "
            ]
          },
          "metadata": {}
        },
        {
          "output_type": "stream",
          "name": "stdout",
          "text": [
            "Saving binary_classification_train.csv to binary_classification_train.csv\n"
          ]
        }
      ]
    },
    {
      "cell_type": "code",
      "source": [
        "import numpy as np\n",
        "import pandas as pd\n",
        "import matplotlib.pyplot as plt"
      ],
      "metadata": {
        "id": "CLZZ2ZuDbP-f"
      },
      "execution_count": null,
      "outputs": []
    },
    {
      "cell_type": "code",
      "source": [
        "file=pd.read_csv('binary_classification_train.csv')\n",
        "print(file.shape)"
      ],
      "metadata": {
        "colab": {
          "base_uri": "https://localhost:8080/"
        },
        "id": "dEqUV8wcbzF3",
        "outputId": "f83e2759-7026-433b-ce46-69f249d30c7f"
      },
      "execution_count": null,
      "outputs": [
        {
          "output_type": "stream",
          "name": "stdout",
          "text": [
            "(48000, 22)\n"
          ]
        }
      ]
    },
    {
      "cell_type": "code",
      "source": [
        "n_sets, n_features=file.shape\n",
        "n_features=n_features-1\n",
        "x_train=file.iloc[:,1:n_features]\n",
        "x_train=x_train.values\n",
        "y_train=file.iloc[:,n_features]\n",
        "y_train=y_train.values\n",
        "print(x_train.shape)\n",
        "print(y_train.shape)"
      ],
      "metadata": {
        "colab": {
          "base_uri": "https://localhost:8080/"
        },
        "id": "CdOpTOfYcL0P",
        "outputId": "007e1f99-9909-4a4f-a81e-2bab3102e146"
      },
      "execution_count": null,
      "outputs": [
        {
          "output_type": "stream",
          "name": "stdout",
          "text": [
            "(48000, 20)\n",
            "(48000,)\n"
          ]
        }
      ]
    },
    {
      "cell_type": "code",
      "source": [
        "def train_test_split(X,y,test_size=0.2,random_state=None):\n",
        "  if random_state is not None:\n",
        "    np.random.seed(random_state)\n",
        "  indices=np.arange(len(X))\n",
        "  np.random.shuffle(indices)\n",
        "  split_idx=int(len(X)*(1-test_size))\n",
        "  train_indices=indices[:split_idx]\n",
        "  test_indices=indices[split_idx:]\n",
        "  X_train, X_test=X[train_indices],X[test_indices]\n",
        "  y_train, y_test=y[train_indices],y[test_indices]\n",
        "  return X_train,X_test,y_train, y_test"
      ],
      "metadata": {
        "id": "rDJkBBGuiW5O"
      },
      "execution_count": null,
      "outputs": []
    },
    {
      "cell_type": "code",
      "source": [
        "def sigmoid(z):\n",
        "  sig=1/(1+np.exp(-z))\n",
        "  return sig"
      ],
      "metadata": {
        "id": "xsxmfCZzc0_x"
      },
      "execution_count": null,
      "outputs": []
    },
    {
      "cell_type": "code",
      "source": [
        "def cost(X,y,w,b):\n",
        "  m,_=X.shape\n",
        "  z=np.dot(X,w)+b\n",
        "  f_wb=sigmoid(z)\n",
        "  cost=(-1/m) * np.sum(y * np.log(f_wb) + (1-y) * np.log(1-f_wb))\n",
        "  return cost"
      ],
      "metadata": {
        "id": "0m5CXn8EdIuK"
      },
      "execution_count": null,
      "outputs": []
    },
    {
      "cell_type": "code",
      "source": [
        "def compute_gradient(X,y,w,b):\n",
        "  m,n=X.shape\n",
        "  dj_dw=np.zeros(n)\n",
        "  dj_db=0.\n",
        "  cosht=sigmoid(np.dot(X,w)+b)-y\n",
        "  dj_dw=np.dot(X.T,cosht)/m\n",
        "  dj_db=np.sum(cosht)/m\n",
        "  return dj_dw, dj_db"
      ],
      "metadata": {
        "id": "kxutd-g3gHre"
      },
      "execution_count": null,
      "outputs": []
    },
    {
      "cell_type": "code",
      "source": [
        "def gradient_descent(X, y, w_init, b_init, alpha, batch_size, n_iterations):\n",
        "    w = w_init.copy()\n",
        "    b = b_init\n",
        "    m = X.shape[0]\n",
        "    J_history = []\n",
        "\n",
        "    for iteration in range(n_iterations):\n",
        "        for batch_start in range(0, m, batch_size):\n",
        "            batch_end = min(batch_start + batch_size, m)\n",
        "            X_batch = X[batch_start:batch_end]\n",
        "            y_batch = y[batch_start:batch_end]\n",
        "\n",
        "            dj_dw, dj_db = compute_gradient(X_batch, y_batch, w, b)\n",
        "            w -= alpha * dj_dw\n",
        "            b -= alpha * dj_db\n",
        "\n",
        "        if iteration % 100 == 0:\n",
        "            J = cost(X, y, w, b)\n",
        "            J_history.append(J)\n",
        "            print(f\"Iteration {iteration:4d}: Cost {J:8f}\")\n",
        "    print(f\"Final cost: {J_history[-1]}\")\n",
        "\n",
        "    return w, b, J_history"
      ],
      "metadata": {
        "id": "JjCnrIXSdgvZ"
      },
      "execution_count": null,
      "outputs": []
    },
    {
      "cell_type": "code",
      "source": [
        "def compute_mean_squared_error(y_true, y_pred):\n",
        "    mse = np.mean((y_true - y_pred) ** 2)\n",
        "    return mse"
      ],
      "metadata": {
        "id": "P408-gVqZsVk"
      },
      "execution_count": null,
      "outputs": []
    },
    {
      "cell_type": "code",
      "source": [
        "def compute_precision(y_true, y_pred):\n",
        "    y_pred=1-y_pred\n",
        "    TP = np.sum((y_true == 1) * (y_pred == 1))\n",
        "    FP = np.sum((y_true == 0) * (y_pred == 1))\n",
        "    precision = TP / (TP + FP) if (TP + FP) != 0 else 0.0\n",
        "    return precision"
      ],
      "metadata": {
        "id": "MJOZKMDWdqZn"
      },
      "execution_count": null,
      "outputs": []
    },
    {
      "cell_type": "code",
      "source": [
        "def compute_recall(y_true, y_pred):\n",
        "    TP = np.sum((y_true == 1) & (y_pred == 1))\n",
        "    FN = np.sum((y_true == 1) & (y_pred == 0))\n",
        "    recall = TP / (TP + FN) if (TP + FN) > 0 else 0\n",
        "    return recall"
      ],
      "metadata": {
        "id": "S0K-q-bqik2s"
      },
      "execution_count": null,
      "outputs": []
    },
    {
      "cell_type": "code",
      "source": [
        "X_train,X_test, y_train, y_test=train_test_split(x_train,y_train,test_size=0.2,random_state=42)\n",
        "m,n=X_train.shape\n",
        "w_initial=np.zeros(n)\n",
        "b_initial=0.\n",
        "alpha=5e-07\n",
        "batch_size=100\n",
        "n_iterations=1000\n",
        "w_final,b_final,J_history=gradient_descent(X_train,y_train,w_initial,b_initial,alpha, batch_size,n_iterations)\n",
        "print(f\"\\n\\n\\nb,w found by gradient descent: {b_final:0.2f},{w_final} \")\n",
        "print(f\"Final cost: {cost(X_test,y_test,w_final,b_final)}\")\n",
        "y_pred=sigmoid(np.dot(X_test,w_final)+b_final)>=0.5\n",
        "accuracy=np.mean(y_pred == y_test)*100\n",
        "mse=compute_mean_squared_error(y_test,y_pred)\n",
        "precision=compute_precision(y_test,y_pred)\n",
        "recall=compute_recall(y_test,y_pred)\n",
        "f1 = 2 * (precision * recall) / (precision + recall) if (precision + recall)!=0 else 0\n",
        "print(f\"\\n\\n\\nMean squared error: {mse}\")\n",
        "print(f\"\\nAccuracy: {accuracy}\")\n",
        "print(f\"\\nPrecision: {precision}\")\n",
        "print(f\"\\nRecall: {recall}\")\n",
        "print(f\"\\nF1 score: {f1}\")\n",
        "plt.plot(range(len(J_history)),J_history)\n",
        "plt.xlabel(\"Iteration (x100)\")\n",
        "plt.ylabel(\"Cost\")\n",
        "plt.title(\"Cost Function History\")\n",
        "plt.show()\n",
        "\n",
        "y_pred_probs = sigmoid(np.dot(X_test, w_final) + b_final)>=0.5\n",
        "plt.figure(figsize=(8, 6))\n",
        "plt.scatter(X_test[:, 0], y_test, color=\"blue\", alpha=0.7, label=\"Actual Values\")\n",
        "plt.scatter(X_test[:, 0], y_pred_probs, color=\"red\", alpha=0.5, label=\"Predicted Probabilities\")\n",
        "plt.xlabel(\"First Feature (X[:, 0])\")\n",
        "plt.ylabel(\"Predicted (y) / Actual (y)\")\n",
        "plt.title(\"First Feature vs Predicted (y) Values on Train set\")\n",
        "plt.legend()\n",
        "plt.grid(True)\n",
        "plt.show()\n"
      ],
      "metadata": {
        "colab": {
          "base_uri": "https://localhost:8080/",
          "height": 1000
        },
        "id": "aBKlgPCdmG5Q",
        "outputId": "269189d7-a78a-4e69-e7f3-99f391cc5d8d"
      },
      "execution_count": null,
      "outputs": [
        {
          "output_type": "stream",
          "name": "stdout",
          "text": [
            "Iteration    0: Cost 0.429431\n",
            "Iteration  100: Cost 0.245109\n",
            "Iteration  200: Cost 0.244549\n",
            "Iteration  300: Cost 0.244366\n",
            "Iteration  400: Cost 0.244288\n",
            "Iteration  500: Cost 0.244251\n",
            "Iteration  600: Cost 0.244232\n",
            "Iteration  700: Cost 0.244221\n",
            "Iteration  800: Cost 0.244213\n",
            "Iteration  900: Cost 0.244207\n",
            "Final cost: 0.24420694450650118\n",
            "\n",
            "\n",
            "\n",
            "b,w found by gradient descent: -0.00,[ 5.19e-03 -4.22e-04 -1.16e-04 -8.02e-03 -9.49e-05  1.92e-02  2.32e-03\n",
            "  3.06e-03  3.46e-03  6.06e-04 -1.13e-03 -2.70e-04 -1.44e-03  1.18e-03\n",
            "  1.64e-03 -1.08e-02  1.59e-02 -9.56e-03  3.84e-03  9.27e-03] \n",
            "Final cost: 0.2574905075234777\n",
            "\n",
            "\n",
            "\n",
            "Mean squared error: 0.06947916666666666\n",
            "\n",
            "Accuracy: 93.05208333333333\n",
            "\n",
            "Precision: 0.06895037329819939\n",
            "\n",
            "Recall: 0.84526938239159\n",
            "\n",
            "F1 score: 0.1275002844572406\n"
          ]
        },
        {
          "output_type": "display_data",
          "data": {
            "text/plain": [
              "<Figure size 640x480 with 1 Axes>"
            ],
            "image/png": "[encoded data removed]"
          },
          "metadata": {}
        },
        {
          "output_type": "display_data",
          "data": {
            "text/plain": [
              "<Figure size 800x600 with 1 Axes>"
            ],
            "image/png": "[encoded data removed]"
          },
          "metadata": {}
        }
      ]
    },
    {
      "cell_type": "code",
      "source": [
        "from google.colab import files\n",
        "uploaded = files.upload()"
      ],
      "metadata": {
        "id": "Ox5lqyB7_5mI",
        "colab": {
          "base_uri": "https://localhost:8080/",
          "height": 73
        },
        "outputId": "c1fa2300-a4a7-4ad2-f20d-3be33ce89c8e"
      },
      "execution_count": null,
      "outputs": [
        {
          "output_type": "display_data",
          "data": {
            "text/plain": [
              "<IPython.core.display.HTML object>"
            ],
            "text/html": [
              "\n",
              "     <input type=\"file\" id=\"files-b2e2d151-c600-4b4e-abe1-7c80a40ce23d\" name=\"files[]\" multiple disabled\n",
              "        style=\"border:none\" />\n",
              "     <output id=\"result-b2e2d151-c600-4b4e-abe1-7c80a40ce23d\">\n",
              "      Upload widget is only available when the cell has been executed in the\n",
              "      current browser session. Please rerun this cell to enable.\n",
              "      </output>\n",
              "      <script>// Copyright 2017 Google LLC\n",
              "//\n",
              "// Licensed under the Apache License, Version 2.0 (the \"License\");\n",
              "// you may not use this file except in compliance with the License.\n",
              "// You may obtain a copy of the License at\n",
              "//\n",
              "//      http://www.apache.org/licenses/LICENSE-2.0\n",
              "//\n",
              "// Unless required by applicable law or agreed to in writing, software\n",
              "// distributed under the License is distributed on an \"AS IS\" BASIS,\n",
              "// WITHOUT WARRANTIES OR CONDITIONS OF ANY KIND, either express or implied.\n",
              "// See the License for the specific language governing permissions and\n",
              "// limitations under the License.\n",
              "\n",
              "/**\n",
              " * @fileoverview Helpers for google.colab Python module.\n",
              " */\n",
              "(function(scope) {\n",
              "function span(text, styleAttributes = {}) {\n",
              "  const element = document.createElement('span');\n",
              "  element.textContent = text;\n",
              "  for (const key of Object.keys(styleAttributes)) {\n",
              "    element.style[key] = styleAttributes[key];\n",
              "  }\n",
              "  return element;\n",
              "}\n",
              "\n",
              "// Max number of bytes which will be uploaded at a time.\n",
              "const MAX_PAYLOAD_SIZE = 100 * 1024;\n",
              "\n",
              "function _uploadFiles(inputId, outputId) {\n",
              "  const steps = uploadFilesStep(inputId, outputId);\n",
              "  const outputElement = document.getElementById(outputId);\n",
              "  // Cache steps on the outputElement to make it available for the next call\n",
              "  // to uploadFilesContinue from Python.\n",
              "  outputElement.steps = steps;\n",
              "\n",
              "  return _uploadFilesContinue(outputId);\n",
              "}\n",
              "\n",
              "// This is roughly an async generator (not supported in the browser yet),\n",
              "// where there are multiple asynchronous steps and the Python side is going\n",
              "// to poll for completion of each step.\n",
              "// This uses a Promise to block the python side on completion of each step,\n",
              "// then passes the result of the previous step as the input to the next step.\n",
              "function _uploadFilesContinue(outputId) {\n",
              "  const outputElement = document.getElementById(outputId);\n",
              "  const steps = outputElement.steps;\n",
              "\n",
              "  const next = steps.next(outputElement.lastPromiseValue);\n",
              "  return Promise.resolve(next.value.promise).then((value) => {\n",
              "    // Cache the last promise value to make it available to the next\n",
              "    // step of the generator.\n",
              "    outputElement.lastPromiseValue = value;\n",
              "    return next.value.response;\n",
              "  });\n",
              "}\n",
              "\n",
              "/**\n",
              " * Generator function which is called between each async step of the upload\n",
              " * process.\n",
              " * @param {string} inputId Element ID of the input file picker element.\n",
              " * @param {string} outputId Element ID of the output display.\n",
              " * @return {!Iterable<!Object>} Iterable of next steps.\n",
              " */\n",
              "function* uploadFilesStep(inputId, outputId) {\n",
              "  const inputElement = document.getElementById(inputId);\n",
              "  inputElement.disabled = false;\n",
              "\n",
              "  const outputElement = document.getElementById(outputId);\n",
              "  outputElement.innerHTML = '';\n",
              "\n",
              "  const pickedPromise = new Promise((resolve) => {\n",
              "    inputElement.addEventListener('change', (e) => {\n",
              "      resolve(e.target.files);\n",
              "    });\n",
              "  });\n",
              "\n",
              "  const cancel = document.createElement('button');\n",
              "  inputElement.parentElement.appendChild(cancel);\n",
              "  cancel.textContent = 'Cancel upload';\n",
              "  const cancelPromise = new Promise((resolve) => {\n",
              "    cancel.onclick = () => {\n",
              "      resolve(null);\n",
              "    };\n",
              "  });\n",
              "\n",
              "  // Wait for the user to pick the files.\n",
              "  const files = yield {\n",
              "    promise: Promise.race([pickedPromise, cancelPromise]),\n",
              "    response: {\n",
              "      action: 'starting',\n",
              "    }\n",
              "  };\n",
              "\n",
              "  cancel.remove();\n",
              "\n",
              "  // Disable the input element since further picks are not allowed.\n",
              "  inputElement.disabled = true;\n",
              "\n",
              "  if (!files) {\n",
              "    return {\n",
              "      response: {\n",
              "        action: 'complete',\n",
              "      }\n",
              "    };\n",
              "  }\n",
              "\n",
              "  for (const file of files) {\n",
              "    const li = document.createElement('li');\n",
              "    li.append(span(file.name, {fontWeight: 'bold'}));\n",
              "    li.append(span(\n",
              "        `(${file.type || 'n/a'}) - ${file.size} bytes, ` +\n",
              "        `last modified: ${\n",
              "            file.lastModifiedDate ? file.lastModifiedDate.toLocaleDateString() :\n",
              "                                    'n/a'} - `));\n",
              "    const percent = span('0% done');\n",
              "    li.appendChild(percent);\n",
              "\n",
              "    outputElement.appendChild(li);\n",
              "\n",
              "    const fileDataPromise = new Promise((resolve) => {\n",
              "      const reader = new FileReader();\n",
              "      reader.onload = (e) => {\n",
              "        resolve(e.target.result);\n",
              "      };\n",
              "      reader.readAsArrayBuffer(file);\n",
              "    });\n",
              "    // Wait for the data to be ready.\n",
              "    let fileData = yield {\n",
              "      promise: fileDataPromise,\n",
              "      response: {\n",
              "        action: 'continue',\n",
              "      }\n",
              "    };\n",
              "\n",
              "    // Use a chunked sending to avoid message size limits. See b/62115660.\n",
              "    let position = 0;\n",
              "    do {\n",
              "      const length = Math.min(fileData.byteLength - position, MAX_PAYLOAD_SIZE);\n",
              "      const chunk = new Uint8Array(fileData, position, length);\n",
              "      position += length;\n",
              "\n",
              "      const base64 = btoa(String.fromCharCode.apply(null, chunk));\n",
              "      yield {\n",
              "        response: {\n",
              "          action: 'append',\n",
              "          file: file.name,\n",
              "          data: base64,\n",
              "        },\n",
              "      };\n",
              "\n",
              "      let percentDone = fileData.byteLength === 0 ?\n",
              "          100 :\n",
              "          Math.round((position / fileData.byteLength) * 100);\n",
              "      percent.textContent = `${percentDone}% done`;\n",
              "\n",
              "    } while (position < fileData.byteLength);\n",
              "  }\n",
              "\n",
              "  // All done.\n",
              "  yield {\n",
              "    response: {\n",
              "      action: 'complete',\n",
              "    }\n",
              "  };\n",
              "}\n",
              "\n",
              "scope.google = scope.google || {};\n",
              "scope.google.colab = scope.google.colab || {};\n",
              "scope.google.colab._files = {\n",
              "  _uploadFiles,\n",
              "  _uploadFilesContinue,\n",
              "};\n",
              "})(self);\n",
              "</script> "
            ]
          },
          "metadata": {}
        },
        {
          "output_type": "stream",
          "name": "stdout",
          "text": [
            "Saving binary_classification_test.csv to binary_classification_test.csv\n"
          ]
        }
      ]
    },
    {
      "cell_type": "code",
      "source": [
        "import pandas as pd\n",
        "file = pd.read_csv('binary_classification_test.csv')\n",
        "print(file.shape)"
      ],
      "metadata": {
        "id": "WHsrFat4hp1c",
        "colab": {
          "base_uri": "https://localhost:8080/"
        },
        "outputId": "040cdc7e-1b5f-4ddb-ab33-d9b4fd9c23d5"
      },
      "execution_count": null,
      "outputs": [
        {
          "output_type": "stream",
          "name": "stdout",
          "text": [
            "(12000, 21)\n"
          ]
        }
      ]
    },
    {
      "cell_type": "code",
      "source": [
        "n_sets,n_features=file.shape\n",
        "x_test=file.iloc[:,1:n_features]\n",
        "x_test=x_test.values"
      ],
      "metadata": {
        "id": "e1q1gsiihtsW"
      },
      "execution_count": null,
      "outputs": []
    },
    {
      "cell_type": "code",
      "source": [
        "y_pred_test=sigmoid(np.dot(x_test,w_final)+b_final)>=0.5\n",
        "plt.figure(figsize=(8, 6))\n",
        "plt.scatter(x_test[:, 0], y_pred_test, color=\"red\", alpha=0.5, label=\"Predicted Values\")\n",
        "plt.xlabel(\"First Feature (X[:, 0])\")\n",
        "plt.ylabel(\"Predicted data\")\n",
        "plt.title(\"First Feature vs Predicted (y) Values on given Test set\")\n",
        "plt.legend()\n",
        "plt.grid(True)\n",
        "plt.show()"
      ],
      "metadata": {
        "id": "Th96T6GYhyKE",
        "colab": {
          "base_uri": "https://localhost:8080/",
          "height": 564
        },
        "outputId": "7f055d5c-10e1-4fa7-a0eb-35384d710a9c"
      },
      "execution_count": null,
      "outputs": [
        {
          "output_type": "display_data",
          "data": {
            "text/plain": [
              "<Figure size 800x600 with 1 Axes>"
            ],
            "image/png": "[encoded data removed]"
          },
          "metadata": {}
        }
      ]
    }
  ],
  "metadata": {
    "colab": {
      "provenance": [],
      "include_colab_link": true
    },
    "kernelspec": {
      "display_name": "Python 3",
      "name": "python3"
    }
  },
  "nbformat": 4,
  "nbformat_minor": 0
}