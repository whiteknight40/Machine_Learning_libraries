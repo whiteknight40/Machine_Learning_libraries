{
 "cells": [
  {
   "cell_type": "code",
   "execution_count": 1,
   "metadata": {},
   "outputs": [],
   "source": [
    "import numpy as np\n",
    "import pandas as pd\n",
    "import matplotlib.pyplot as plt"
   ]
  },
  {
   "cell_type": "code",
   "execution_count": 2,
   "metadata": {},
   "outputs": [],
   "source": [
    "def stable_sigmoid1(x):\n",
    "    # Apply hard thresholds to avoid overflow\n",
    "    return np.where(x > 20, 1, np.where(x < -20, 0, 1 / (1 + np.exp(-x))))"
   ]
  },
  {
   "cell_type": "code",
   "execution_count": 3,
   "metadata": {},
   "outputs": [],
   "source": [
    "def stable_sigmoid(x):\n",
    "    # To prevent overflow, clip x to a safe range\n",
    "    return np.where(\n",
    "        x > 20, 1, \n",
    "        np.where(x < -20, 0, 1 / (1 + np.exp(-x)))\n",
    "    )"
   ]
  },
  {
   "cell_type": "code",
   "execution_count": 4,
   "metadata": {},
   "outputs": [],
   "source": [
    "def forward_propagation(X, W1, b1, W2, b2):\n",
    "    Z1 = np.dot(X, W1) + b1\n",
    "    A1 = relu(Z1)\n",
    "    Z2 = np.dot(A1, W2) + b2\n",
    "    A2 = stable_sigmoid(Z2)\n",
    "    return Z1, A1, Z2, A2\n"
   ]
  },
  {
   "cell_type": "code",
   "execution_count": 5,
   "metadata": {},
   "outputs": [],
   "source": [
    "def backward_propagation(X_batch, y_batch, W1, b1, W2, b2, A1, A2, learning_rate, lambda_reg=0.01):\n",
    "    m = X_batch.shape[0]\n",
    "    \n",
    "    # Compute gradients\n",
    "    dZ2 = A2 - y_batch.reshape(-1, 1)\n",
    "    dW2 = np.dot(A1.T, dZ2) / m + lambda_reg * W2\n",
    "    db2 = np.sum(dZ2) / m\n",
    "    dZ1 = np.dot(dZ2, W2.T) * A1 * (1 - A1)\n",
    "    dW1 = np.dot(X_batch.T, dZ1) / m + lambda_reg * W1\n",
    "    db1 = np.sum(dZ1) / m\n",
    "    \n",
    "    # Update weights and biases\n",
    "    W1 -= learning_rate * dW1\n",
    "    b1 -= learning_rate * db1\n",
    "    W2 -= learning_rate * dW2\n",
    "    b2 -= learning_rate * db2\n",
    "\n",
    "    return W1, b1, W2, b2"
   ]
  },
  {
   "cell_type": "code",
   "execution_count": 6,
   "metadata": {},
   "outputs": [],
   "source": [
    "def train_nn(X, y, hidden_size, learning_rate, epochs, batch_size=64):\n",
    "    input_size = X.shape[1]\n",
    "    output_size = 1\n",
    "    \n",
    "    \n",
    "    W1 = np.random.randn(input_size, hidden_size) * 0.01\n",
    "    b1 = np.zeros((1, hidden_size))\n",
    "    W2 = np.random.randn(hidden_size, output_size) * 0.01\n",
    "    b2 = np.zeros((1, output_size))\n",
    "    \n",
    "    cost_history = []\n",
    "    accuracy_history = []\n",
    "    precision_history = []\n",
    "    recall_history = []\n",
    "    f1_score_history = []\n",
    "\n",
    "    for epoch in range(epochs):\n",
    "        # Forward propagation\n",
    "        Z1 = np.dot(X, W1) + b1\n",
    "        A1 = np.tanh(Z1)\n",
    "        Z2 = np.dot(A1, W2) + b2\n",
    "        A2 = 1 / (1 + np.exp(-Z2))  # Sigmoid activation\n",
    "\n",
    "        m = y.shape[0]\n",
    "        cost = -(1 / m) * np.sum(y * np.log(A2) + (1 - y) * np.log(1 - A2))\n",
    "\n",
    "        # Backward propagation\n",
    "        dZ2 = A2 - y.reshape(-1, 1)\n",
    "        dW2 = (1 / m) * np.dot(A1.T, dZ2)\n",
    "        db2 = (1 / m) * np.sum(dZ2, axis=0, keepdims=True)\n",
    "        dA1 = np.dot(dZ2, W2.T)\n",
    "        dZ1 = dA1 * (1 - np.power(A1, 2))  # Derivative of tanh\n",
    "        dW1 = (1 / m) * np.dot(X.T, dZ1)\n",
    "        db1 = (1 / m) * np.sum(dZ1, axis=0, keepdims=True)\n",
    "\n",
    "        W1 -= learning_rate * dW1\n",
    "        b1 -= learning_rate * db1\n",
    "        W2 -= learning_rate * dW2\n",
    "        b2 -= learning_rate * db2\n",
    "\n",
    "        y_pred = (A2 > 0.5).astype(int)\n",
    "        accuracy, precision, recall, f1_score = compute_metrics(y, y_pred)\n",
    "\n",
    "        cost_history.append(cost)\n",
    "        accuracy_history.append(accuracy)\n",
    "        precision_history.append(precision)\n",
    "        recall_history.append(recall)\n",
    "        f1_score_history.append(f1_score)\n",
    "\n",
    "        \n",
    "        if epoch % 100 == 0:\n",
    "            print(f\"Epoch {epoch}, Cost: {cost:.4f}, Accuracy: {accuracy:.4f}, Precision: {precision:.4f}, F1 Score: {f1_score:.4f}\")\n",
    "    \n",
    "    return W1, b1, W2, b2, cost_history, accuracy_history, precision_history, recall_history, f1_score_history\n"
   ]
  },
  {
   "cell_type": "code",
   "execution_count": 7,
   "metadata": {},
   "outputs": [],
   "source": [
    "def compute_metrics(y_true, y_pred, y_prob):\n",
    "    TP = np.sum((y_true == 1) & (y_pred == 1))\n",
    "    TN = np.sum((y_true == 0) & (y_pred == 0))\n",
    "    FP = np.sum((y_true == 0) & (y_pred == 1))\n",
    "    FN = np.sum((y_true == 1) & (y_pred == 0))\n",
    "\n",
    "    # Accuracy\n",
    "    accuracy = (TP + TN) / (TP + TN + FP + FN)\n",
    "\n",
    "    # Precision\n",
    "    precision = TP / (TP + FP) if TP + FP > 0 else 0\n",
    "\n",
    "    # Recall\n",
    "    recall = TP / (TP + FN) if TP + FN > 0 else 0\n",
    "\n",
    "    # F1 Score\n",
    "    f1_score = 2 * (precision * recall) / (precision + recall) if precision + recall > 0 else 0\n",
    "\n",
    "    # Log Loss\n",
    "    epsilon = 1e-15\n",
    "    y_prob = np.clip(y_prob, epsilon, 1 - epsilon)\n",
    "    log_loss = -np.mean(y_true * np.log(y_prob) + (1 - y_true) * np.log(1 - y_prob))\n",
    "    return accuracy, precision, recall, f1_score, log_loss"
   ]
  },
  {
   "cell_type": "code",
   "execution_count": 8,
   "metadata": {},
   "outputs": [],
   "source": [
    "def load_data_from_file(filename):\n",
    "    # Assuming CSV file format with features and labels in the last column\n",
    "    data = np.genfromtxt(filename, delimiter=',', skip_header=1)\n",
    "    X = data[:, :-2]  # All columns except the last two\n",
    "    y = data[:, -2]   # Binary label is the second-to-last column\n",
    "    class_labels = data[:, -1]  # Class label is the last column\n",
    "    return X, y, class_labels"
   ]
  },
  {
   "cell_type": "code",
   "execution_count": 9,
   "metadata": {},
   "outputs": [],
   "source": [
    "def save_predictions_to_csv(predictions, filename='predictions.csv'):\n",
    "    # Save the predictions to a CSV file\n",
    "    np.savetxt(filename, predictions, delimiter=',', header=\"Predicted Labels\", comments='', fmt='%d')\n",
    "    print(f\"Predictions saved to {filename}\")"
   ]
  },
  {
   "cell_type": "code",
   "execution_count": 10,
   "metadata": {},
   "outputs": [],
   "source": [
    "def plot_cost_and_metrics(cost_history, accuracy_history, precision_history, recall_history, f1_score_history):\n",
    "    epochs = len(cost_history)\n",
    "    \n",
    "    plt.figure(figsize=(12, 8))\n",
    "    \n",
    "    # Plotting cost\n",
    "    plt.subplot(2, 2, 1)\n",
    "    plt.plot(range(epochs), cost_history, label=\"Cost\", color='b')\n",
    "    plt.xlabel('Epochs')\n",
    "    plt.ylabel('Cost')\n",
    "    plt.title('Cost over Epochs')\n",
    "    plt.legend()\n",
    "    \n",
    "    # Plotting accuracy\n",
    "    plt.subplot(2, 2, 2)\n",
    "    plt.plot(range(epochs), accuracy_history, label=\"Accuracy\", color='g')\n",
    "    plt.xlabel('Epochs')\n",
    "    plt.ylabel('Accuracy')\n",
    "    plt.title('Accuracy over Epochs')\n",
    "    plt.legend()\n",
    "    \n",
    "    # Plotting precision\n",
    "    plt.subplot(2, 2, 3)\n",
    "    plt.plot(range(epochs), precision_history, label=\"Precision\", color='r')\n",
    "    plt.xlabel('Epochs')\n",
    "    plt.ylabel('Precision')\n",
    "    plt.title('Precision over Epochs')\n",
    "    plt.legend()\n",
    "    \n",
    "    # Plotting F1 Score\n",
    "    plt.subplot(2, 2, 4)\n",
    "    plt.plot(range(epochs), f1_score_history, label=\"F1 Score\", color='m')\n",
    "    plt.xlabel('Epochs')\n",
    "    plt.ylabel('F1 Score')\n",
    "    plt.title('F1 Score over Epochs')\n",
    "    plt.legend()\n",
    "    \n",
    "    plt.tight_layout()\n",
    "    plt.show()"
   ]
  },
  {
   "cell_type": "code",
   "execution_count": 11,
   "metadata": {},
   "outputs": [
    {
     "name": "stdout",
     "output_type": "stream",
     "text": [
      "(80000, 1025)\n"
     ]
    }
   ],
   "source": [
    "train_file = \"nn_train.csv\"  # Replace with actual file path\n",
    "test_file = \"nn_test.csv\"    # Replace with actual file path\n",
    "\n",
    "    # Load training and test data\n",
    "X_train, y_train, train_class_labels = load_data_from_file(train_file)\n",
    "X_test, y_test, test_class_labels = load_data_from_file(test_file)\n",
    "print(X_train.shape)"
   ]
  },
  {
   "cell_type": "code",
   "execution_count": 12,
   "metadata": {},
   "outputs": [
    {
     "ename": "MemoryError",
     "evalue": "Unable to allocate 47.7 GiB for an array with shape (80000, 80000) and data type float64",
     "output_type": "error",
     "traceback": [
      "\u001b[1;31m---------------------------------------------------------------------------\u001b[0m",
      "\u001b[1;31mMemoryError\u001b[0m                               Traceback (most recent call last)",
      "Cell \u001b[1;32mIn[12], line 38\u001b[0m\n\u001b[0;32m     36\u001b[0m \u001b[38;5;66;03m# Run the main function\u001b[39;00m\n\u001b[0;32m     37\u001b[0m \u001b[38;5;28;01mif\u001b[39;00m \u001b[38;5;18m__name__\u001b[39m \u001b[38;5;241m==\u001b[39m \u001b[38;5;124m\"\u001b[39m\u001b[38;5;124m__main__\u001b[39m\u001b[38;5;124m\"\u001b[39m:\n\u001b[1;32m---> 38\u001b[0m     \u001b[43mmain\u001b[49m\u001b[43m(\u001b[49m\u001b[43m)\u001b[49m\n",
      "Cell \u001b[1;32mIn[12], line 14\u001b[0m, in \u001b[0;36mmain\u001b[1;34m()\u001b[0m\n\u001b[0;32m     12\u001b[0m learning_rate \u001b[38;5;241m=\u001b[39m \u001b[38;5;241m0.01\u001b[39m\n\u001b[0;32m     13\u001b[0m epochs \u001b[38;5;241m=\u001b[39m \u001b[38;5;241m1000\u001b[39m\n\u001b[1;32m---> 14\u001b[0m W1, b1, W2, b2, cost_history, accuracy_history, precision_history, recall_history, f1_score_history \u001b[38;5;241m=\u001b[39m \u001b[43mtrain_nn\u001b[49m\u001b[43m(\u001b[49m\u001b[43mX_train\u001b[49m\u001b[43m,\u001b[49m\u001b[43m \u001b[49m\u001b[43my_train\u001b[49m\u001b[43m,\u001b[49m\u001b[43m \u001b[49m\u001b[43mhidden_size\u001b[49m\u001b[43m,\u001b[49m\u001b[43m \u001b[49m\u001b[43mlearning_rate\u001b[49m\u001b[43m,\u001b[49m\u001b[43m \u001b[49m\u001b[43mepochs\u001b[49m\u001b[43m)\u001b[49m\n\u001b[0;32m     16\u001b[0m \u001b[38;5;66;03m# Predictions on test data\u001b[39;00m\n\u001b[0;32m     17\u001b[0m _, test_predictions \u001b[38;5;241m=\u001b[39m forward_propagation(X_test, W1, b1, W2, b2)\n",
      "Cell \u001b[1;32mIn[6], line 25\u001b[0m, in \u001b[0;36mtrain_nn\u001b[1;34m(X, y, hidden_size, learning_rate, epochs, batch_size)\u001b[0m\n\u001b[0;32m     22\u001b[0m A2 \u001b[38;5;241m=\u001b[39m \u001b[38;5;241m1\u001b[39m \u001b[38;5;241m/\u001b[39m (\u001b[38;5;241m1\u001b[39m \u001b[38;5;241m+\u001b[39m np\u001b[38;5;241m.\u001b[39mexp(\u001b[38;5;241m-\u001b[39mZ2))  \u001b[38;5;66;03m# Sigmoid activation\u001b[39;00m\n\u001b[0;32m     24\u001b[0m m \u001b[38;5;241m=\u001b[39m y\u001b[38;5;241m.\u001b[39mshape[\u001b[38;5;241m0\u001b[39m]\n\u001b[1;32m---> 25\u001b[0m cost \u001b[38;5;241m=\u001b[39m \u001b[38;5;241m-\u001b[39m(\u001b[38;5;241m1\u001b[39m \u001b[38;5;241m/\u001b[39m m) \u001b[38;5;241m*\u001b[39m np\u001b[38;5;241m.\u001b[39msum(y \u001b[38;5;241m*\u001b[39m np\u001b[38;5;241m.\u001b[39mlog(A2) \u001b[38;5;241m+\u001b[39m \u001b[43m(\u001b[49m\u001b[38;5;241;43m1\u001b[39;49m\u001b[43m \u001b[49m\u001b[38;5;241;43m-\u001b[39;49m\u001b[43m \u001b[49m\u001b[43my\u001b[49m\u001b[43m)\u001b[49m\u001b[43m \u001b[49m\u001b[38;5;241;43m*\u001b[39;49m\u001b[43m \u001b[49m\u001b[43mnp\u001b[49m\u001b[38;5;241;43m.\u001b[39;49m\u001b[43mlog\u001b[49m\u001b[43m(\u001b[49m\u001b[38;5;241;43m1\u001b[39;49m\u001b[43m \u001b[49m\u001b[38;5;241;43m-\u001b[39;49m\u001b[43m \u001b[49m\u001b[43mA2\u001b[49m\u001b[43m)\u001b[49m)\n\u001b[0;32m     27\u001b[0m \u001b[38;5;66;03m# Backward propagation\u001b[39;00m\n\u001b[0;32m     28\u001b[0m dZ2 \u001b[38;5;241m=\u001b[39m A2 \u001b[38;5;241m-\u001b[39m y\u001b[38;5;241m.\u001b[39mreshape(\u001b[38;5;241m-\u001b[39m\u001b[38;5;241m1\u001b[39m, \u001b[38;5;241m1\u001b[39m)\n",
      "\u001b[1;31mMemoryError\u001b[0m: Unable to allocate 47.7 GiB for an array with shape (80000, 80000) and data type float64"
     ]
    }
   ],
   "source": [
    "def main():\n",
    "    # Load train and test data\n",
    "    train_file = \"nn_train.csv\"  # Replace with actual file path\n",
    "    test_file = \"nn_test.csv\"    # Replace with actual file path\n",
    "\n",
    "    # Load training and test data\n",
    "    X_train, y_train, train_class_labels = load_data_from_file(train_file)\n",
    "    X_test, y_test, test_class_labels = load_data_from_file(test_file)\n",
    "\n",
    "    # Train the neural network\n",
    "    hidden_size = 10\n",
    "    learning_rate = 0.01\n",
    "    epochs = 1000\n",
    "    W1, b1, W2, b2, cost_history, accuracy_history, precision_history, recall_history, f1_score_history = train_nn(X_train, y_train, hidden_size, learning_rate, epochs)\n",
    "\n",
    "    # Predictions on test data\n",
    "    _, test_predictions = forward_propagation(X_test, W1, b1, W2, b2)\n",
    "    test_predictions = np.round(test_predictions)\n",
    "    \n",
    "    # Compute metrics\n",
    "    accuracy, precision, recall, f1_score, log_loss = compute_metrics(y_test, test_predictions, test_predictions)\n",
    "\n",
    "    # Print metrics\n",
    "    print(f\"Test Accuracy: {accuracy:.4f}\")\n",
    "    print(f\"Test Precision: {precision:.4f}\")\n",
    "    print(f\"Test Recall: {recall:.4f}\")\n",
    "    print(f\"Test F1 Score: {f1_score:.4f}\")\n",
    "    print(f\"Test Log Loss: {log_loss:.4f}\")\n",
    "    \n",
    "    # Save the predicted labels to CSV\n",
    "    save_predictions_to_csv(test_predictions)\n",
    "\n",
    "    # Plot cost and metrics\n",
    "    plot_cost_and_metrics(cost_history, accuracy_history, precision_history, recall_history, f1_score_history)\n",
    "\n",
    "# Run the main function\n",
    "if __name__ == \"__main__\":\n",
    "    main()"
   ]
  }
 ],
 "metadata": {
  "kernelspec": {
   "display_name": "Python 3",
   "language": "python",
   "name": "python3"
  },
  "language_info": {
   "codemirror_mode": {
    "name": "ipython",
    "version": 3
   },
   "file_extension": ".py",
   "mimetype": "text/x-python",
   "name": "python",
   "nbconvert_exporter": "python",
   "pygments_lexer": "ipython3",
   "version": "3.13.1"
  }
 },
 "nbformat": 4,
 "nbformat_minor": 2
}
